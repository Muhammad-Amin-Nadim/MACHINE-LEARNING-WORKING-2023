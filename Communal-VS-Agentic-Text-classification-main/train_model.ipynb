{
 "cells": [
  {
   "cell_type": "code",
   "execution_count": 1,
   "metadata": {},
   "outputs": [],
   "source": [
    "import numpy as np\n",
    "import pandas as pd"
   ]
  },
  {
   "cell_type": "code",
   "execution_count": 2,
   "metadata": {},
   "outputs": [],
   "source": [
    "dataset=pd.read_csv(\"communal.csv\")"
   ]
  },
  {
   "cell_type": "code",
   "execution_count": 3,
   "metadata": {},
   "outputs": [
    {
     "data": {
      "text/plain": [
       "(14, 2)"
      ]
     },
     "execution_count": 3,
     "metadata": {},
     "output_type": "execute_result"
    }
   ],
   "source": [
    "dataset.shape"
   ]
  },
  {
   "cell_type": "code",
   "execution_count": 4,
   "metadata": {},
   "outputs": [
    {
     "data": {
      "text/html": [
       "<div>\n",
       "<style scoped>\n",
       "    .dataframe tbody tr th:only-of-type {\n",
       "        vertical-align: middle;\n",
       "    }\n",
       "\n",
       "    .dataframe tbody tr th {\n",
       "        vertical-align: top;\n",
       "    }\n",
       "\n",
       "    .dataframe thead th {\n",
       "        text-align: right;\n",
       "    }\n",
       "</style>\n",
       "<table border=\"1\" class=\"dataframe\">\n",
       "  <thead>\n",
       "    <tr style=\"text-align: right;\">\n",
       "      <th></th>\n",
       "      <th>Title</th>\n",
       "      <th>Category</th>\n",
       "    </tr>\n",
       "  </thead>\n",
       "  <tbody>\n",
       "    <tr>\n",
       "      <th>0</th>\n",
       "      <td>I'm able to do the work. I will accomplish wit...</td>\n",
       "      <td>1</td>\n",
       "    </tr>\n",
       "    <tr>\n",
       "      <th>1</th>\n",
       "      <td>Ambition can help you to grow.</td>\n",
       "      <td>1</td>\n",
       "    </tr>\n",
       "    <tr>\n",
       "      <th>2</th>\n",
       "      <td>I am grateful enough to him for helping me. Hi...</td>\n",
       "      <td>2</td>\n",
       "    </tr>\n",
       "    <tr>\n",
       "      <th>3</th>\n",
       "      <td>My intelligence ang leadership ability will be...</td>\n",
       "      <td>1</td>\n",
       "    </tr>\n",
       "    <tr>\n",
       "      <th>4</th>\n",
       "      <td>Our manager is really organized and powerful. ...</td>\n",
       "      <td>1</td>\n",
       "    </tr>\n",
       "    <tr>\n",
       "      <th>5</th>\n",
       "      <td>This boy has a logical skill to solve any comp...</td>\n",
       "      <td>1</td>\n",
       "    </tr>\n",
       "    <tr>\n",
       "      <th>6</th>\n",
       "      <td>Their decision can bring justice, They have a ...</td>\n",
       "      <td>2</td>\n",
       "    </tr>\n",
       "    <tr>\n",
       "      <th>7</th>\n",
       "      <td>She is a powerful and independent girl. She ha...</td>\n",
       "      <td>1</td>\n",
       "    </tr>\n",
       "    <tr>\n",
       "      <th>8</th>\n",
       "      <td>Our neighbor is very gentle and polite. They g...</td>\n",
       "      <td>2</td>\n",
       "    </tr>\n",
       "    <tr>\n",
       "      <th>9</th>\n",
       "      <td>I'm really close to her. I love her polite and...</td>\n",
       "      <td>2</td>\n",
       "    </tr>\n",
       "    <tr>\n",
       "      <th>10</th>\n",
       "      <td>She is learning how to teach. She is a good te...</td>\n",
       "      <td>2</td>\n",
       "    </tr>\n",
       "    <tr>\n",
       "      <th>11</th>\n",
       "      <td>We are discussing about the welfare of out tea...</td>\n",
       "      <td>2</td>\n",
       "    </tr>\n",
       "    <tr>\n",
       "      <th>12</th>\n",
       "      <td>Her roommate is very loveable and open minded....</td>\n",
       "      <td>2</td>\n",
       "    </tr>\n",
       "    <tr>\n",
       "      <th>13</th>\n",
       "      <td>She is establishing herself with a lot of effo...</td>\n",
       "      <td>1</td>\n",
       "    </tr>\n",
       "  </tbody>\n",
       "</table>\n",
       "</div>"
      ],
      "text/plain": [
       "                                                Title  Category\n",
       "0   I'm able to do the work. I will accomplish wit...         1\n",
       "1                      Ambition can help you to grow.         1\n",
       "2   I am grateful enough to him for helping me. Hi...         2\n",
       "3   My intelligence ang leadership ability will be...         1\n",
       "4   Our manager is really organized and powerful. ...         1\n",
       "5   This boy has a logical skill to solve any comp...         1\n",
       "6   Their decision can bring justice, They have a ...         2\n",
       "7   She is a powerful and independent girl. She ha...         1\n",
       "8   Our neighbor is very gentle and polite. They g...         2\n",
       "9   I'm really close to her. I love her polite and...         2\n",
       "10  She is learning how to teach. She is a good te...         2\n",
       "11  We are discussing about the welfare of out tea...         2\n",
       "12  Her roommate is very loveable and open minded....         2\n",
       "13  She is establishing herself with a lot of effo...         1"
      ]
     },
     "execution_count": 4,
     "metadata": {},
     "output_type": "execute_result"
    }
   ],
   "source": [
    "dataset"
   ]
  },
  {
   "cell_type": "markdown",
   "metadata": {},
   "source": [
    "# Data cleaning"
   ]
  },
  {
   "cell_type": "code",
   "execution_count": 5,
   "metadata": {},
   "outputs": [
    {
     "name": "stderr",
     "output_type": "stream",
     "text": [
      "[nltk_data] Downloading package stopwords to\n",
      "[nltk_data]     C:\\Users\\ADMIN\\AppData\\Roaming\\nltk_data...\n",
      "[nltk_data]   Package stopwords is already up-to-date!\n"
     ]
    }
   ],
   "source": [
    "import re \n",
    "import nltk\n",
    "\n",
    "nltk.download('stopwords')\n",
    "from nltk.corpus import stopwords\n",
    "from nltk.stem.porter import PorterStemmer\n",
    "\n",
    "ps=PorterStemmer()\n",
    "all_stopword= stopwords.words('english')\n",
    "all_stopword.remove('not')"
   ]
  },
  {
   "cell_type": "code",
   "execution_count": 6,
   "metadata": {},
   "outputs": [],
   "source": [
    "corpus=[]\n",
    "\n",
    "for i in range(0, 14):\n",
    "    \n",
    "    review = re.sub('[^a-zA-Z]', ' ', dataset['Title'][i])\n",
    "    review = review.lower()\n",
    "    review = review.split()\n",
    "    review = [ps.stem(word) for word in review if not word in set(all_stopword)]\n",
    "    review = ' '.join(review)\n",
    "    corpus.append(review)"
   ]
  },
  {
   "cell_type": "code",
   "execution_count": 7,
   "metadata": {},
   "outputs": [
    {
     "data": {
      "text/plain": [
       "['abl work accomplish without help confid',\n",
       " 'ambit help grow',\n",
       " 'grate enough help kind make loveabl way share belong realli warm',\n",
       " 'intellig ang leadership abil abl overcom problem expert field outstand perform confid face oustand result',\n",
       " 'manag realli organ power profession behavior make us proud',\n",
       " 'boy logic skill solv complex problem outstand perform sucessful soon',\n",
       " 'decis bring justic merci love attitud toward sens humor praiseworthi',\n",
       " 'power independ girl discov lot thing excel manag leadership',\n",
       " 'neighbor gentl polit genuin help other love behavior keep everyon unit',\n",
       " 'realli close love polit help behavior discuss famili friend hospit natur',\n",
       " 'learn teach good team player team work togeth trust',\n",
       " 'discuss welfar team teach peopl talk sympathi squad share mutual resepect ritual',\n",
       " 'roommat loveabl open mind offer tea yesterday care other roomat lot lover behavior',\n",
       " 'establish lot effort power women deep insight goal orient mental allow overcom barrier']"
      ]
     },
     "execution_count": 7,
     "metadata": {},
     "output_type": "execute_result"
    }
   ],
   "source": [
    "corpus"
   ]
  },
  {
   "cell_type": "markdown",
   "metadata": {},
   "source": [
    "# Transforming data"
   ]
  },
  {
   "cell_type": "code",
   "execution_count": 8,
   "metadata": {},
   "outputs": [],
   "source": [
    "from sklearn.feature_extraction.text import CountVectorizer\n",
    "vectorizer=CountVectorizer()"
   ]
  },
  {
   "cell_type": "code",
   "execution_count": 9,
   "metadata": {},
   "outputs": [],
   "source": [
    "x=vectorizer.fit_transform(corpus).toarray()\n",
    "y=dataset.iloc[:,-1].values"
   ]
  },
  {
   "cell_type": "code",
   "execution_count": 10,
   "metadata": {},
   "outputs": [
    {
     "data": {
      "text/plain": [
       "array([[0, 1, 1, ..., 0, 1, 0],\n",
       "       [0, 0, 0, ..., 0, 0, 0],\n",
       "       [0, 0, 0, ..., 0, 0, 0],\n",
       "       ...,\n",
       "       [0, 0, 0, ..., 0, 0, 0],\n",
       "       [0, 0, 0, ..., 0, 0, 1],\n",
       "       [0, 0, 0, ..., 1, 0, 0]], dtype=int64)"
      ]
     },
     "execution_count": 10,
     "metadata": {},
     "output_type": "execute_result"
    }
   ],
   "source": [
    "x"
   ]
  },
  {
   "cell_type": "code",
   "execution_count": 11,
   "metadata": {},
   "outputs": [
    {
     "data": {
      "text/plain": [
       "array([1, 1, 2, 1, 1, 1, 2, 1, 2, 2, 2, 2, 2, 1], dtype=int64)"
      ]
     },
     "execution_count": 11,
     "metadata": {},
     "output_type": "execute_result"
    }
   ],
   "source": [
    "y"
   ]
  },
  {
   "cell_type": "code",
   "execution_count": 17,
   "metadata": {},
   "outputs": [
    {
     "ename": "SyntaxError",
     "evalue": "(unicode error) 'unicodeescape' codec can't decode bytes in position 2-3: truncated \\UXXXXXXXX escape (2916506339.py, line 3)",
     "output_type": "error",
     "traceback": [
      "\u001b[1;36m  File \u001b[1;32m\"C:\\Users\\ADMIN\\AppData\\Local\\Temp\\ipykernel_9212\\2916506339.py\"\u001b[1;36m, line \u001b[1;32m3\u001b[0m\n\u001b[1;33m    path=\"C:\\Users\\ADMIN\\Desktop\\PROJECT\\k\\Communal-VS-Agentic-Text-classification-main\\bow_train.pkl\"\u001b[0m\n\u001b[1;37m                                                                                                      ^\u001b[0m\n\u001b[1;31mSyntaxError\u001b[0m\u001b[1;31m:\u001b[0m (unicode error) 'unicodeescape' codec can't decode bytes in position 2-3: truncated \\UXXXXXXXX escape\n"
     ]
    }
   ],
   "source": [
    "#saving bow into pickle file\n",
    "import pickle\n",
    "path=\"C:\\Users\\ADMIN\\Desktop\\PROJECT\\k\\Communal-VS-Agentic-Text-classification-main\\bow_train.pkl\"\n",
    "pickle.dump(vectorizer,open(path,\"wb\"))"
   ]
  },
  {
   "cell_type": "markdown",
   "metadata": {},
   "source": [
    "# spliting data"
   ]
  },
  {
   "cell_type": "code",
   "execution_count": 18,
   "metadata": {},
   "outputs": [],
   "source": [
    "from sklearn.model_selection import train_test_split\n",
    "X_train, X_test, y_train, y_test = train_test_split(x, y, test_size = 0.30, random_state = 0)"
   ]
  },
  {
   "cell_type": "code",
   "execution_count": 19,
   "metadata": {},
   "outputs": [
    {
     "data": {
      "text/plain": [
       "(14, 109)"
      ]
     },
     "execution_count": 19,
     "metadata": {},
     "output_type": "execute_result"
    }
   ],
   "source": [
    "x.shape"
   ]
  },
  {
   "cell_type": "code",
   "execution_count": 20,
   "metadata": {},
   "outputs": [
    {
     "data": {
      "text/plain": [
       "(14,)"
      ]
     },
     "execution_count": 20,
     "metadata": {},
     "output_type": "execute_result"
    }
   ],
   "source": [
    "y.shape"
   ]
  },
  {
   "cell_type": "markdown",
   "metadata": {},
   "source": [
    "# Training model"
   ]
  },
  {
   "cell_type": "code",
   "execution_count": 21,
   "metadata": {},
   "outputs": [
    {
     "data": {
      "text/plain": [
       "GaussianNB()"
      ]
     },
     "execution_count": 21,
     "metadata": {},
     "output_type": "execute_result"
    }
   ],
   "source": [
    "from sklearn.naive_bayes import GaussianNB\n",
    "classifier = GaussianNB()\n",
    "classifier.fit(X_train, y_train)"
   ]
  },
  {
   "cell_type": "code",
   "execution_count": 22,
   "metadata": {},
   "outputs": [
    {
     "name": "stdout",
     "output_type": "stream",
     "text": [
      "[2 2 2 2 2]\n"
     ]
    }
   ],
   "source": [
    "predictions=classifier.predict(X_test)\n",
    "print(predictions)"
   ]
  },
  {
   "cell_type": "code",
   "execution_count": 23,
   "metadata": {},
   "outputs": [
    {
     "name": "stdout",
     "output_type": "stream",
     "text": [
      "[[0 1]\n",
      " [0 4]]\n"
     ]
    },
    {
     "data": {
      "text/plain": [
       "0.8"
      ]
     },
     "execution_count": 23,
     "metadata": {},
     "output_type": "execute_result"
    }
   ],
   "source": [
    "\n",
    "\n",
    "from sklearn.metrics import confusion_matrix, accuracy_score\n",
    "cm = confusion_matrix(y_test, predictions)\n",
    "print(cm)\n",
    "\n",
    "accuracy_score(y_test, predictions)"
   ]
  },
  {
   "cell_type": "code",
   "execution_count": 24,
   "metadata": {},
   "outputs": [],
   "source": [
    "#saving the model"
   ]
  },
  {
   "cell_type": "code",
   "execution_count": 28,
   "metadata": {},
   "outputs": [
    {
     "ename": "SyntaxError",
     "evalue": "(unicode error) 'unicodeescape' codec can't decode bytes in position 2-3: truncated \\UXXXXXXXX escape (3240915518.py, line 2)",
     "output_type": "error",
     "traceback": [
      "\u001b[1;36m  File \u001b[1;32m\"C:\\Users\\ADMIN\\AppData\\Local\\Temp\\ipykernel_9212\\3240915518.py\"\u001b[1;36m, line \u001b[1;32m2\u001b[0m\n\u001b[1;33m    path=\"C:\\Users\\ADMIN\\Desktop\\PROJECT\\k\\Communal-VS-Agentic-Text-classification-main\\\\model.pkl\"\u001b[0m\n\u001b[1;37m                                                                                                   ^\u001b[0m\n\u001b[1;31mSyntaxError\u001b[0m\u001b[1;31m:\u001b[0m (unicode error) 'unicodeescape' codec can't decode bytes in position 2-3: truncated \\UXXXXXXXX escape\n"
     ]
    }
   ],
   "source": [
    "import pickle\n",
    "path=\"C:\\Users\\ADMIN\\Desktop\\PROJECT\\k\\Communal-VS-Agentic-Text-classification-main\\\\model.pkl\"\n",
    "pickle.dump(classifier,open(path,\"wb\"))"
   ]
  },
  {
   "cell_type": "code",
   "execution_count": null,
   "metadata": {},
   "outputs": [],
   "source": []
  },
  {
   "cell_type": "code",
   "execution_count": null,
   "metadata": {},
   "outputs": [],
   "source": []
  },
  {
   "cell_type": "code",
   "execution_count": 29,
   "metadata": {},
   "outputs": [],
   "source": [
    "from sklearn.svm import SVC"
   ]
  },
  {
   "cell_type": "code",
   "execution_count": 30,
   "metadata": {},
   "outputs": [
    {
     "data": {
      "text/plain": [
       "SVC(probability=True)"
      ]
     },
     "execution_count": 30,
     "metadata": {},
     "output_type": "execute_result"
    }
   ],
   "source": [
    "model2= SVC(probability=True)\n",
    "model2.fit(X_train, y_train)"
   ]
  },
  {
   "cell_type": "code",
   "execution_count": 31,
   "metadata": {},
   "outputs": [
    {
     "name": "stdout",
     "output_type": "stream",
     "text": [
      "[1 1 1 1 1]\n"
     ]
    }
   ],
   "source": [
    "predictions2=model2.predict(X_test)\n",
    "print(predictions2)"
   ]
  },
  {
   "cell_type": "code",
   "execution_count": 32,
   "metadata": {},
   "outputs": [
    {
     "name": "stdout",
     "output_type": "stream",
     "text": [
      "[[1 0]\n",
      " [4 0]]\n"
     ]
    },
    {
     "data": {
      "text/plain": [
       "0.2"
      ]
     },
     "execution_count": 32,
     "metadata": {},
     "output_type": "execute_result"
    }
   ],
   "source": [
    "from sklearn.metrics import confusion_matrix, accuracy_score\n",
    "cm = confusion_matrix(y_test, predictions2)\n",
    "print(cm)\n",
    "\n",
    "accuracy_score(y_test, predictions2)"
   ]
  },
  {
   "cell_type": "code",
   "execution_count": null,
   "metadata": {},
   "outputs": [],
   "source": []
  },
  {
   "cell_type": "code",
   "execution_count": null,
   "metadata": {},
   "outputs": [],
   "source": []
  },
  {
   "cell_type": "code",
   "execution_count": null,
   "metadata": {},
   "outputs": [],
   "source": []
  },
  {
   "cell_type": "code",
   "execution_count": 33,
   "metadata": {},
   "outputs": [],
   "source": [
    "from sklearn.neighbors import KNeighborsClassifier"
   ]
  },
  {
   "cell_type": "code",
   "execution_count": 34,
   "metadata": {},
   "outputs": [],
   "source": [
    "KN = KNeighborsClassifier(n_neighbors=3)"
   ]
  },
  {
   "cell_type": "code",
   "execution_count": 35,
   "metadata": {},
   "outputs": [],
   "source": [
    "KNN = KN.fit(X_train, y_train)"
   ]
  },
  {
   "cell_type": "code",
   "execution_count": 36,
   "metadata": {},
   "outputs": [
    {
     "name": "stderr",
     "output_type": "stream",
     "text": [
      "C:\\Users\\ADMIN\\anaconda3\\lib\\site-packages\\sklearn\\neighbors\\_classification.py:228: FutureWarning: Unlike other reduction functions (e.g. `skew`, `kurtosis`), the default behavior of `mode` typically preserves the axis it acts along. In SciPy 1.11.0, this behavior will change: the default value of `keepdims` will become False, the `axis` over which the statistic is taken will be eliminated, and the value None will no longer be accepted. Set `keepdims` to True or False to avoid this warning.\n",
      "  mode, _ = stats.mode(_y[neigh_ind, k], axis=1)\n"
     ]
    }
   ],
   "source": [
    "y_pred = KNN.predict(X_test)"
   ]
  },
  {
   "cell_type": "code",
   "execution_count": 37,
   "metadata": {},
   "outputs": [
    {
     "data": {
      "text/plain": [
       "array([1, 1, 1, 1, 1], dtype=int64)"
      ]
     },
     "execution_count": 37,
     "metadata": {},
     "output_type": "execute_result"
    }
   ],
   "source": [
    "y_pred"
   ]
  },
  {
   "cell_type": "code",
   "execution_count": null,
   "metadata": {},
   "outputs": [],
   "source": []
  },
  {
   "cell_type": "code",
   "execution_count": null,
   "metadata": {},
   "outputs": [],
   "source": []
  },
  {
   "cell_type": "code",
   "execution_count": null,
   "metadata": {},
   "outputs": [],
   "source": []
  },
  {
   "cell_type": "code",
   "execution_count": null,
   "metadata": {},
   "outputs": [],
   "source": []
  },
  {
   "cell_type": "code",
   "execution_count": 38,
   "metadata": {},
   "outputs": [],
   "source": [
    "#tokenizing the words"
   ]
  },
  {
   "cell_type": "code",
   "execution_count": 39,
   "metadata": {},
   "outputs": [
    {
     "name": "stdout",
     "output_type": "stream",
     "text": [
      "abl work accomplish without help confid ambit help grow grate enough help kind make loveabl way share belong realli warm intellig ang leadership abil abl overcom problem expert field outstand perform confid face oustand result manag realli organ power profession behavior make us proud boy logic skill solv complex problem outstand perform sucessful soon decis bring justic merci love attitud toward sens humor praiseworthi power independ girl discov lot thing excel manag leadership neighbor gentl polit genuin help other love behavior keep everyon unit realli close love polit help behavior discuss famili friend hospit natur learn teach good team player team work togeth trust discuss welfar team teach peopl talk sympathi squad share mutual resepect ritual roommat loveabl open mind offer tea yesterday care other roomat lot lover behavior establish lot effort power women deep insight goal orient mental allow overcom barrier\n",
      "['abl', 'work', 'accomplish', 'without', 'help', 'confid', 'ambit', 'help', 'grow', 'grate', 'enough', 'help', 'kind', 'make', 'loveabl', 'way', 'share', 'belong', 'realli', 'warm', 'intellig', 'ang', 'leadership', 'abil', 'abl', 'overcom', 'problem', 'expert', 'field', 'outstand', 'perform', 'confid', 'face', 'oustand', 'result', 'manag', 'realli', 'organ', 'power', 'profession', 'behavior', 'make', 'us', 'proud', 'boy', 'logic', 'skill', 'solv', 'complex', 'problem', 'outstand', 'perform', 'sucessful', 'soon', 'decis', 'bring', 'justic', 'merci', 'love', 'attitud', 'toward', 'sens', 'humor', 'praiseworthi', 'power', 'independ', 'girl', 'discov', 'lot', 'thing', 'excel', 'manag', 'leadership', 'neighbor', 'gentl', 'polit', 'genuin', 'help', 'other', 'love', 'behavior', 'keep', 'everyon', 'unit', 'realli', 'close', 'love', 'polit', 'help', 'behavior', 'discuss', 'famili', 'friend', 'hospit', 'natur', 'learn', 'teach', 'good', 'team', 'player', 'team', 'work', 'togeth', 'trust', 'discuss', 'welfar', 'team', 'teach', 'peopl', 'talk', 'sympathi', 'squad', 'share', 'mutual', 'resepect', 'ritual', 'roommat', 'loveabl', 'open', 'mind', 'offer', 'tea', 'yesterday', 'care', 'other', 'roomat', 'lot', 'lover', 'behavior', 'establish', 'lot', 'effort', 'power', 'women', 'deep', 'insight', 'goal', 'orient', 'mental', 'allow', 'overcom', 'barrier']\n"
     ]
    },
    {
     "name": "stderr",
     "output_type": "stream",
     "text": [
      "[nltk_data] Downloading package punkt to\n",
      "[nltk_data]     C:\\Users\\ADMIN\\AppData\\Roaming\\nltk_data...\n",
      "[nltk_data]   Package punkt is already up-to-date!\n"
     ]
    }
   ],
   "source": [
    "import nltk\n",
    "nltk.download('punkt')\n",
    "from nltk.tokenize import word_tokenize\n",
    "joint_words = ' '.join(corpus)\n",
    "print(joint_words)\n",
    "\n",
    "separated_words = word_tokenize(joint_words)\n",
    "\n",
    "print(separated_words)"
   ]
  },
  {
   "cell_type": "code",
   "execution_count": 40,
   "metadata": {},
   "outputs": [],
   "source": [
    "with open('dictionary.txt', 'wb') as file:\n",
    "    pickle.dump(separated_words, file)"
   ]
  },
  {
   "cell_type": "code",
   "execution_count": 41,
   "metadata": {},
   "outputs": [],
   "source": [
    "with open ('dictionary.txt', 'rb') as file:\n",
    "    Outlist = pickle.load(file)"
   ]
  },
  {
   "cell_type": "code",
   "execution_count": 42,
   "metadata": {},
   "outputs": [
    {
     "data": {
      "text/plain": [
       "['abl',\n",
       " 'work',\n",
       " 'accomplish',\n",
       " 'without',\n",
       " 'help',\n",
       " 'confid',\n",
       " 'ambit',\n",
       " 'help',\n",
       " 'grow',\n",
       " 'grate',\n",
       " 'enough',\n",
       " 'help',\n",
       " 'kind',\n",
       " 'make',\n",
       " 'loveabl',\n",
       " 'way',\n",
       " 'share',\n",
       " 'belong',\n",
       " 'realli',\n",
       " 'warm',\n",
       " 'intellig',\n",
       " 'ang',\n",
       " 'leadership',\n",
       " 'abil',\n",
       " 'abl',\n",
       " 'overcom',\n",
       " 'problem',\n",
       " 'expert',\n",
       " 'field',\n",
       " 'outstand',\n",
       " 'perform',\n",
       " 'confid',\n",
       " 'face',\n",
       " 'oustand',\n",
       " 'result',\n",
       " 'manag',\n",
       " 'realli',\n",
       " 'organ',\n",
       " 'power',\n",
       " 'profession',\n",
       " 'behavior',\n",
       " 'make',\n",
       " 'us',\n",
       " 'proud',\n",
       " 'boy',\n",
       " 'logic',\n",
       " 'skill',\n",
       " 'solv',\n",
       " 'complex',\n",
       " 'problem',\n",
       " 'outstand',\n",
       " 'perform',\n",
       " 'sucessful',\n",
       " 'soon',\n",
       " 'decis',\n",
       " 'bring',\n",
       " 'justic',\n",
       " 'merci',\n",
       " 'love',\n",
       " 'attitud',\n",
       " 'toward',\n",
       " 'sens',\n",
       " 'humor',\n",
       " 'praiseworthi',\n",
       " 'power',\n",
       " 'independ',\n",
       " 'girl',\n",
       " 'discov',\n",
       " 'lot',\n",
       " 'thing',\n",
       " 'excel',\n",
       " 'manag',\n",
       " 'leadership',\n",
       " 'neighbor',\n",
       " 'gentl',\n",
       " 'polit',\n",
       " 'genuin',\n",
       " 'help',\n",
       " 'other',\n",
       " 'love',\n",
       " 'behavior',\n",
       " 'keep',\n",
       " 'everyon',\n",
       " 'unit',\n",
       " 'realli',\n",
       " 'close',\n",
       " 'love',\n",
       " 'polit',\n",
       " 'help',\n",
       " 'behavior',\n",
       " 'discuss',\n",
       " 'famili',\n",
       " 'friend',\n",
       " 'hospit',\n",
       " 'natur',\n",
       " 'learn',\n",
       " 'teach',\n",
       " 'good',\n",
       " 'team',\n",
       " 'player',\n",
       " 'team',\n",
       " 'work',\n",
       " 'togeth',\n",
       " 'trust',\n",
       " 'discuss',\n",
       " 'welfar',\n",
       " 'team',\n",
       " 'teach',\n",
       " 'peopl',\n",
       " 'talk',\n",
       " 'sympathi',\n",
       " 'squad',\n",
       " 'share',\n",
       " 'mutual',\n",
       " 'resepect',\n",
       " 'ritual',\n",
       " 'roommat',\n",
       " 'loveabl',\n",
       " 'open',\n",
       " 'mind',\n",
       " 'offer',\n",
       " 'tea',\n",
       " 'yesterday',\n",
       " 'care',\n",
       " 'other',\n",
       " 'roomat',\n",
       " 'lot',\n",
       " 'lover',\n",
       " 'behavior',\n",
       " 'establish',\n",
       " 'lot',\n",
       " 'effort',\n",
       " 'power',\n",
       " 'women',\n",
       " 'deep',\n",
       " 'insight',\n",
       " 'goal',\n",
       " 'orient',\n",
       " 'mental',\n",
       " 'allow',\n",
       " 'overcom',\n",
       " 'barrier']"
      ]
     },
     "execution_count": 42,
     "metadata": {},
     "output_type": "execute_result"
    }
   ],
   "source": [
    "Outlist"
   ]
  },
  {
   "cell_type": "code",
   "execution_count": null,
   "metadata": {},
   "outputs": [],
   "source": []
  },
  {
   "cell_type": "code",
   "execution_count": null,
   "metadata": {},
   "outputs": [],
   "source": []
  }
 ],
 "metadata": {
  "kernelspec": {
   "display_name": "Python 3 (ipykernel)",
   "language": "python",
   "name": "python3"
  },
  "language_info": {
   "codemirror_mode": {
    "name": "ipython",
    "version": 3
   },
   "file_extension": ".py",
   "mimetype": "text/x-python",
   "name": "python",
   "nbconvert_exporter": "python",
   "pygments_lexer": "ipython3",
   "version": "3.9.13"
  }
 },
 "nbformat": 4,
 "nbformat_minor": 4
}
